{
  "nbformat": 4,
  "nbformat_minor": 0,
  "metadata": {
    "colab": {
      "provenance": []
    },
    "kernelspec": {
      "name": "python3",
      "display_name": "Python 3"
    },
    "language_info": {
      "name": "python"
    }
  },
  "cells": [
    {
      "cell_type": "code",
      "execution_count": 5,
      "metadata": {
        "colab": {
          "base_uri": "https://localhost:8080/"
        },
        "id": "eYWUp16ERo6J",
        "outputId": "7c749f95-b46d-465e-c558-dacb02a81cf5"
      },
      "outputs": [
        {
          "output_type": "stream",
          "name": "stdout",
          "text": [
            "True\n",
            "True\n",
            "False\n"
          ]
        }
      ],
      "source": [
        "#Question 1\n",
        "def isPowerOfTwo(n):\n",
        "    if n <= 0:\n",
        "        return False\n",
        "    return (n & (n - 1)) == 0\n",
        "\n",
        "# Example 1\n",
        "n = 1\n",
        "print(isPowerOfTwo(n))  # Output: True\n",
        "\n",
        "# Example 2\n",
        "n = 16\n",
        "print(isPowerOfTwo(n))  # Output: True\n",
        "\n",
        "# Example 3\n",
        "n = 3\n",
        "print(isPowerOfTwo(n))  # Output: False\n",
        "\n",
        "\n",
        "#TC - O(1)\n",
        "#SC - O(1)"
      ]
    },
    {
      "cell_type": "code",
      "source": [
        "#question 2\n",
        "def sumOfFirstNNumbers(n):\n",
        "    return (n * (n + 1)) // 2\n",
        "\n",
        "# Example 1\n",
        "n = 3\n",
        "print(sumOfFirstNNumbers(n))  # Output: 6\n",
        "\n",
        "# Example 2\n",
        "n = 5\n",
        "print(sumOfFirstNNumbers(n))  # Output: 15\n",
        "\n",
        "#TC - O(1)\n",
        "#SC - O(1)"
      ],
      "metadata": {
        "colab": {
          "base_uri": "https://localhost:8080/"
        },
        "id": "Epw6oSs9R_bQ",
        "outputId": "89a461de-5ba9-4b00-f8e3-6a13d65db22b"
      },
      "execution_count": 6,
      "outputs": [
        {
          "output_type": "stream",
          "name": "stdout",
          "text": [
            "6\n",
            "15\n"
          ]
        }
      ]
    },
    {
      "cell_type": "code",
      "source": [
        "#question 3\n",
        "def factorial(N):\n",
        "    result = 1\n",
        "    for i in range(2, N + 1):\n",
        "        result *= i\n",
        "    return result\n",
        "\n",
        "# Example 1\n",
        "N = 5\n",
        "print(factorial(N))  # Output: 120\n",
        "\n",
        "# Example 2\n",
        "N = 4\n",
        "print(factorial(N))  # Output: 24\n",
        "\n",
        "#TC - O(N)------loop performing 2 to N\n",
        "#SC - O(1)"
      ],
      "metadata": {
        "colab": {
          "base_uri": "https://localhost:8080/"
        },
        "id": "XGlgHBHjS69-",
        "outputId": "b64bee76-a072-429a-d28f-5c93c3fc90a3"
      },
      "execution_count": 7,
      "outputs": [
        {
          "output_type": "stream",
          "name": "stdout",
          "text": [
            "120\n",
            "24\n"
          ]
        }
      ]
    },
    {
      "cell_type": "code",
      "source": [
        "#question 4\n",
        "def calculateExponent(N, P):\n",
        "    return N ** P\n",
        "\n",
        "# Example 1\n",
        "N = 5\n",
        "P = 2\n",
        "print(calculateExponent(N, P))  # Output: 25\n",
        "\n",
        "# Example 2\n",
        "N = 2\n",
        "P = 5\n",
        "print(calculateExponent(N, P))  # Output: 32\n",
        "\n",
        "#TC - O(1)\n",
        "#SC - O(1)"
      ],
      "metadata": {
        "colab": {
          "base_uri": "https://localhost:8080/"
        },
        "id": "0CGqcLsVTEg-",
        "outputId": "c0dccf28-5584-4e3a-d881-a3d1a8a24b1c"
      },
      "execution_count": 8,
      "outputs": [
        {
          "output_type": "stream",
          "name": "stdout",
          "text": [
            "25\n",
            "32\n"
          ]
        }
      ]
    },
    {
      "cell_type": "code",
      "source": [
        "#question 5\n",
        "def findMax(arr, n):\n",
        "    # Base case: If the array has only one element, return it as the maximum\n",
        "    if n == 1:\n",
        "        return arr[0]\n",
        "    \n",
        "    # Recursive call to find the maximum of the subarray excluding the last element\n",
        "    max_element = findMax(arr, n - 1)\n",
        "    \n",
        "    # Compare the maximum with the last element of the array\n",
        "    if arr[n - 1] > max_element:\n",
        "        return arr[n - 1]\n",
        "    else:\n",
        "        return max_element\n",
        "\n",
        "# Example 1\n",
        "arr = [1, 4, 3, -5, -4, 8, 6]\n",
        "n = len(arr)\n",
        "print(findMax(arr, n))  # Output: 8\n",
        "\n",
        "# Example 2\n",
        "arr = [1, 4, 45, 6, 10, -8]\n",
        "n = len(arr)\n",
        "print(findMax(arr, n))  # Output: 45\n",
        "\n",
        "#TC - O(n)\n",
        "#SC - O(n)"
      ],
      "metadata": {
        "colab": {
          "base_uri": "https://localhost:8080/"
        },
        "id": "J9gS0V0CTZ9-",
        "outputId": "5287b802-bd55-497f-feea-5f9bee2b7308"
      },
      "execution_count": 9,
      "outputs": [
        {
          "output_type": "stream",
          "name": "stdout",
          "text": [
            "8\n",
            "45\n"
          ]
        }
      ]
    },
    {
      "cell_type": "code",
      "source": [
        "#question 6\n",
        "def findNthTerm(a, d, N):\n",
        "    return a + (N - 1) * d\n",
        "\n",
        "# Example 1\n",
        "a = 2\n",
        "d = 1\n",
        "N = 5\n",
        "print(findNthTerm(a, d, N))  # Output: 6\n",
        "\n",
        "# Example 2\n",
        "a = 5\n",
        "d = 2\n",
        "N = 10\n",
        "print(findNthTerm(a, d, N))  # Output: 23\n",
        "\n",
        "#TC - O(1)\n",
        "#SC - O(1)"
      ],
      "metadata": {
        "colab": {
          "base_uri": "https://localhost:8080/"
        },
        "id": "59DCGOHoTyC4",
        "outputId": "b68291ee-abba-4656-8d0a-9bf5a316ef22"
      },
      "execution_count": 10,
      "outputs": [
        {
          "output_type": "stream",
          "name": "stdout",
          "text": [
            "6\n",
            "23\n"
          ]
        }
      ]
    },
    {
      "cell_type": "code",
      "source": [
        "#question 7\n",
        "from itertools import permutations\n",
        "\n",
        "def printPermutations(S):\n",
        "    permuts = permutations(S)\n",
        "    for perm in permuts:\n",
        "        print(''.join(perm))\n",
        "\n",
        "# Example 1\n",
        "S = \"ABC\"\n",
        "printPermutations(S)\n",
        "# Output:\n",
        "# ABC\n",
        "# ACB\n",
        "# BAC\n",
        "# BCA\n",
        "# CAB\n",
        "# CBA\n",
        "\n",
        "# Example 2\n",
        "S = \"XY\"\n",
        "printPermutations(S)\n",
        "# Output:\n",
        "# XY\n",
        "# YX\n",
        "\n",
        "#TC - O(n!)\n",
        "#SC - O(n!)"
      ],
      "metadata": {
        "colab": {
          "base_uri": "https://localhost:8080/"
        },
        "id": "FfocK_MtT88m",
        "outputId": "0a3835e7-61cf-48eb-f430-c885e7a5330a"
      },
      "execution_count": 11,
      "outputs": [
        {
          "output_type": "stream",
          "name": "stdout",
          "text": [
            "ABC\n",
            "ACB\n",
            "BAC\n",
            "BCA\n",
            "CAB\n",
            "CBA\n",
            "XY\n",
            "YX\n"
          ]
        }
      ]
    },
    {
      "cell_type": "code",
      "source": [
        "#question 8\n",
        "def productOfArray(arr):\n",
        "    product = 1\n",
        "    for num in arr:\n",
        "        product *= num\n",
        "    return product\n",
        "\n",
        "# Example 1\n",
        "arr = [1, 2, 3, 4, 5]\n",
        "print(productOfArray(arr))  # Output: 120\n",
        "\n",
        "# Example 2\n",
        "arr = [1, 6, 3]\n",
        "print(productOfArray(arr))  # Output: 18\n",
        "\n",
        "#TC - O(n)\n",
        "#SC - O(1)"
      ],
      "metadata": {
        "colab": {
          "base_uri": "https://localhost:8080/"
        },
        "id": "KSFmQRuWUS4x",
        "outputId": "1300f39a-6267-4e11-da27-928f6247e0fc"
      },
      "execution_count": 12,
      "outputs": [
        {
          "output_type": "stream",
          "name": "stdout",
          "text": [
            "120\n",
            "18\n"
          ]
        }
      ]
    }
  ]
}